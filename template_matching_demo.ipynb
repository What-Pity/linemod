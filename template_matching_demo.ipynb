{
 "cells": [
  {
   "cell_type": "code",
   "execution_count": null,
   "metadata": {},
   "outputs": [],
   "source": [
    "import cv2\n",
    "import numpy as np\n",
    "from matplotlib import pyplot as plt\n",
    "from PIL import Image\n",
    "import src.feature as f"
   ]
  },
  {
   "cell_type": "code",
   "execution_count": null,
   "metadata": {},
   "outputs": [],
   "source": [
    "template=cv2.imread('./data/cat_lm/template.jpg')*(cv2.imread('./data/cat_lm/mask.jpg')>128)\n",
    "plt.imshow(template[:,:,::-1])"
   ]
  },
  {
   "cell_type": "code",
   "execution_count": null,
   "metadata": {},
   "outputs": [],
   "source": [
    "image=cv2.imread(\"./data/cat_lm/image.jpg\")\n",
    "plt.imshow(image[:,:,::-1])"
   ]
  },
  {
   "cell_type": "code",
   "execution_count": null,
   "metadata": {},
   "outputs": [],
   "source": [
    "img_h,img_w=image.shape[:2]\n",
    "tpl_h,tpl_w=template.shape[:2]\n",
    "mask,template_feature=f.extrac_template_feature(template)\n",
    "plt.subplot(121)\n",
    "plt.imshow(template_feature)\n",
    "plt.subplot(122)\n",
    "plt.imshow(mask)"
   ]
  },
  {
   "cell_type": "code",
   "execution_count": 15,
   "metadata": {},
   "outputs": [
    {
     "data": {
      "text/plain": [
       "(480, 640)"
      ]
     },
     "execution_count": 15,
     "metadata": {},
     "output_type": "execute_result"
    }
   ],
   "source": [
    "img_h,img_w"
   ]
  },
  {
   "cell_type": "code",
   "execution_count": null,
   "metadata": {},
   "outputs": [],
   "source": [
    "img_feature=f.extrac_image_feature(image)\n",
    "# plt.imshow(img_feature>0)"
   ]
  },
  {
   "cell_type": "code",
   "execution_count": 14,
   "metadata": {},
   "outputs": [
    {
     "name": "stdout",
     "output_type": "stream",
     "text": [
      "0.8370624741047016\n"
     ]
    }
   ],
   "source": [
    "xy:tuple=0,0\n",
    "maxscore=0\n",
    "for row in range(0,img_h-tpl_h+1):\n",
    "    for col in range(0,img_w-tpl_w+1):\n",
    "        score=f.compute_feature_similarity(template_feature,img_feature[row:row+tpl_h,col:col+tpl_w],mask)\n",
    "        # print(f\"{row*img_w+col}/{(img_h-tpl_h)*(img_w-tpl_w)}: {score=}\")\n",
    "        if score>maxscore:\n",
    "            maxscore=score\n",
    "            xy=(col,row)\n",
    "print(maxscore)"
   ]
  },
  {
   "cell_type": "code",
   "execution_count": null,
   "metadata": {},
   "outputs": [],
   "source": [
    "xy,maxscore"
   ]
  },
  {
   "cell_type": "code",
   "execution_count": null,
   "metadata": {},
   "outputs": [],
   "source": [
    "show_image= image.copy()\n",
    "plt.subplot(131)\n",
    "plt.imshow(show_image[:,:,::-1])\n",
    "plt.subplot(132)\n",
    "plt.imshow(show_image[xy[1]:xy[1]+tpl_h, xy[0]:xy[0]+tpl_w,::-1])\n",
    "plt.subplot(133)\n",
    "show_image[xy[1]:xy[1]+tpl_h, xy[0]:xy[0]+tpl_w] = 0\n",
    "plt.imshow(show_image[:,:,::-1])"
   ]
  },
  {
   "cell_type": "code",
   "execution_count": null,
   "metadata": {},
   "outputs": [],
   "source": [
    "roi=image[xy[1]:xy[1]+tpl_h, xy[0]:xy[0]+tpl_w,::-1]\n",
    "msk,tf=f.extrac_template_feature(roi)\n",
    "plt.subplot(131)\n",
    "plt.imshow(roi)\n",
    "plt.subplot(132)\n",
    "plt.imshow(msk)\n",
    "plt.subplot(133)\n",
    "plt.imshow(template_feature)"
   ]
  }
 ],
 "metadata": {
  "kernelspec": {
   "display_name": "base",
   "language": "python",
   "name": "python3"
  },
  "language_info": {
   "codemirror_mode": {
    "name": "ipython",
    "version": 3
   },
   "file_extension": ".py",
   "mimetype": "text/x-python",
   "name": "python",
   "nbconvert_exporter": "python",
   "pygments_lexer": "ipython3",
   "version": "3.11.5"
  }
 },
 "nbformat": 4,
 "nbformat_minor": 2
}
